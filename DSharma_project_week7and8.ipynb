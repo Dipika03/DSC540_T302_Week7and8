{
 "cells": [
  {
   "cell_type": "code",
   "execution_count": 1,
   "id": "e720db43-2359-4ca2-be22-3fc9637badd2",
   "metadata": {},
   "outputs": [],
   "source": [
    "# Name Dipika Sharma\n",
    "# DSC 540 T302 Data Preparation\n",
    "# Week 7 and 8"
   ]
  },
  {
   "cell_type": "raw",
   "id": "8581b981-3f58-4fea-9680-daed37e9da52",
   "metadata": {},
   "source": [
    "Perform at least 5 data transformation and/or cleansing steps to your website data. The below examples are not required - they are just potential transformations you could do. If your data doesn't work for these scenarios, complete different transformations. You can do the same transformation multiple times if needed to clean your data. The goal is a clean dataset at the end of the milestone.\n",
    "Replace Headers\n",
    "Format data into a more readable format\n",
    "Identify outliers and bad data\n",
    "Find duplicates\n",
    "Fix casing or inconsistent values\n",
    "Conduct Fuzzy Matching"
   ]
  },
  {
   "cell_type": "markdown",
   "id": "399d49db-18ed-4f80-8d12-ddeabac8c88b",
   "metadata": {},
   "source": [
    "I am using the https://www.geonames.org/postal-codes/US/CA/california.html site to get all the postal codes of California states."
   ]
  },
  {
   "cell_type": "code",
   "execution_count": 3,
   "id": "0feda748-6679-48fb-861f-8cd033254b90",
   "metadata": {},
   "outputs": [],
   "source": [
    "from bs4 import BeautifulSoup\n",
    "import pandas as pd"
   ]
  },
  {
   "cell_type": "code",
   "execution_count": 79,
   "id": "78cdc01b-dd01-4c4a-b090-3ee60a4c2af7",
   "metadata": {},
   "outputs": [],
   "source": [
    "# Declaring all the libraries I want to use now.\n",
    "\n",
    "import numpy as np\n",
    "import pandas as pd\n",
    "import matplotlib.pyplot as plt"
   ]
  },
  {
   "cell_type": "code",
   "execution_count": 4,
   "id": "0d16ee26-ccd1-46d3-939a-fb034e71c27a",
   "metadata": {},
   "outputs": [],
   "source": [
    "# Download the following HTML file, save it and then use bs4 to read it from the disk\n",
    "fd = open(\"Postal Codes California, United States.html\", \"r\")\n",
    "soup = BeautifulSoup(fd)\n",
    "fd.close()\n",
    "# print(soup.prettify())"
   ]
  },
  {
   "cell_type": "code",
   "execution_count": 5,
   "id": "cee21363-e3e3-438b-9e1a-8c40bdf774e0",
   "metadata": {},
   "outputs": [
    {
     "name": "stdout",
     "output_type": "stream",
     "text": [
      "There are 3 tables in a source\n"
     ]
    }
   ],
   "source": [
    "# findall method to extract the content\n",
    "\n",
    "Tables_ = soup.find_all(\"table\")\n",
    "print(\"There are {} tables in a source\".format(len(Tables_)))"
   ]
  },
  {
   "cell_type": "code",
   "execution_count": 84,
   "id": "931dbb6c-a633-4333-bee6-9fb2b0a0f2e9",
   "metadata": {},
   "outputs": [
    {
     "name": "stdout",
     "output_type": "stream",
     "text": [
      "Classes of each table:\n",
      "None\n",
      "None\n",
      "['restable']\n"
     ]
    }
   ],
   "source": [
    "# Let see which class we want to use for our analysis.\n",
    "print('Classes of each table:')\n",
    "for table in soup.find_all('table'):\n",
    "    print(table.get('class'))"
   ]
  },
  {
   "cell_type": "markdown",
   "id": "02c163c0-cfe0-4e43-9cb4-2e1391bc0a6f",
   "metadata": {},
   "source": [
    "As we can see we will be using the class 'restable'"
   ]
  },
  {
   "cell_type": "code",
   "execution_count": 7,
   "id": "5c4a89d0-b138-4c91-b203-779a15bcaf30",
   "metadata": {
    "tags": []
   },
   "outputs": [
    {
     "name": "stdout",
     "output_type": "stream",
     "text": [
      "<class 'bs4.element.Tag'>\n"
     ]
    }
   ],
   "source": [
    "# going to the website, right click, choose inspect. You can find the class of the table which we can use to find the correct table.\n",
    "\n",
    "tbl = soup.find(\"table\", {\"class\": \"restable\"})\n",
    "print(type(tbl))\n",
    "# soup.find(\"table\", {\"class\": \"restable\"})"
   ]
  },
  {
   "cell_type": "code",
   "execution_count": 14,
   "id": "f688657f-f049-49e7-8efc-3ced14e0af89",
   "metadata": {
    "tags": []
   },
   "outputs": [],
   "source": [
    "# Extracting all the headers from the class restable.\n",
    "\n",
    "Header_1 = [th.getText().strip() for th in soup.find(\"table\", {\"class\": \"restable\"}).findAll('th')]"
   ]
  },
  {
   "cell_type": "code",
   "execution_count": 15,
   "id": "f75495cf-1ce3-4b7c-951b-3319aa8d80af",
   "metadata": {},
   "outputs": [
    {
     "data": {
      "text/plain": [
       "['', 'Place', 'Code', 'Country', 'Admin1', 'Admin2', 'Admin3']"
      ]
     },
     "execution_count": 15,
     "metadata": {},
     "output_type": "execute_result"
    }
   ],
   "source": [
    "Header_1"
   ]
  },
  {
   "cell_type": "markdown",
   "id": "961ea011-5397-43fe-9baf-7a1cae2d08a4",
   "metadata": {},
   "source": [
    "Above is all the headers from class restable"
   ]
  },
  {
   "cell_type": "code",
   "execution_count": 25,
   "id": "2d925819-d0ae-4375-8331-4422d9570052",
   "metadata": {},
   "outputs": [],
   "source": [
    "# Extracting all data from class restable\n",
    "\n",
    "data_ = [[td.get_text().strip() for td in tr.findAll('td')] for tr in soup.find(\"table\", {\"class\": \"restable\"}).findAll('tr')]"
   ]
  },
  {
   "cell_type": "code",
   "execution_count": 31,
   "id": "e0ba6edc-bf06-493f-a306-5647b8f042a6",
   "metadata": {},
   "outputs": [],
   "source": [
    "# creating dataframe using rows and headers extract from source first.\n",
    "\n",
    "postal_code = pd.DataFrame(data_, columns=Header_1)"
   ]
  },
  {
   "cell_type": "code",
   "execution_count": 32,
   "id": "b3259329-9e45-4db1-b7c1-64d5b49cd4b9",
   "metadata": {},
   "outputs": [
    {
     "data": {
      "text/html": [
       "<div>\n",
       "<style scoped>\n",
       "    .dataframe tbody tr th:only-of-type {\n",
       "        vertical-align: middle;\n",
       "    }\n",
       "\n",
       "    .dataframe tbody tr th {\n",
       "        vertical-align: top;\n",
       "    }\n",
       "\n",
       "    .dataframe thead th {\n",
       "        text-align: right;\n",
       "    }\n",
       "</style>\n",
       "<table border=\"1\" class=\"dataframe\">\n",
       "  <thead>\n",
       "    <tr style=\"text-align: right;\">\n",
       "      <th></th>\n",
       "      <th></th>\n",
       "      <th>Place</th>\n",
       "      <th>Code</th>\n",
       "      <th>Country</th>\n",
       "      <th>Admin1</th>\n",
       "      <th>Admin2</th>\n",
       "      <th>Admin3</th>\n",
       "    </tr>\n",
       "  </thead>\n",
       "  <tbody>\n",
       "    <tr>\n",
       "      <th>0</th>\n",
       "      <td>None</td>\n",
       "      <td>None</td>\n",
       "      <td>None</td>\n",
       "      <td>None</td>\n",
       "      <td>None</td>\n",
       "      <td>None</td>\n",
       "      <td>None</td>\n",
       "    </tr>\n",
       "    <tr>\n",
       "      <th>1</th>\n",
       "      <td>1</td>\n",
       "      <td>Beverly Hills</td>\n",
       "      <td>90210</td>\n",
       "      <td>United States</td>\n",
       "      <td>California</td>\n",
       "      <td>Los Angeles</td>\n",
       "      <td></td>\n",
       "    </tr>\n",
       "    <tr>\n",
       "      <th>2</th>\n",
       "      <td></td>\n",
       "      <td>34.09/-118.406</td>\n",
       "      <td>None</td>\n",
       "      <td>None</td>\n",
       "      <td>None</td>\n",
       "      <td>None</td>\n",
       "      <td>None</td>\n",
       "    </tr>\n",
       "    <tr>\n",
       "      <th>3</th>\n",
       "      <td>2</td>\n",
       "      <td>Los Angeles</td>\n",
       "      <td>90002</td>\n",
       "      <td>United States</td>\n",
       "      <td>California</td>\n",
       "      <td>Los Angeles</td>\n",
       "      <td></td>\n",
       "    </tr>\n",
       "    <tr>\n",
       "      <th>4</th>\n",
       "      <td></td>\n",
       "      <td>33.95/-118.246</td>\n",
       "      <td>None</td>\n",
       "      <td>None</td>\n",
       "      <td>None</td>\n",
       "      <td>None</td>\n",
       "      <td>None</td>\n",
       "    </tr>\n",
       "  </tbody>\n",
       "</table>\n",
       "</div>"
      ],
      "text/plain": [
       "                  Place   Code        Country      Admin1       Admin2 Admin3\n",
       "0  None            None   None           None        None         None   None\n",
       "1     1   Beverly Hills  90210  United States  California  Los Angeles       \n",
       "2        34.09/-118.406   None           None        None         None   None\n",
       "3     2     Los Angeles  90002  United States  California  Los Angeles       \n",
       "4        33.95/-118.246   None           None        None         None   None"
      ]
     },
     "execution_count": 32,
     "metadata": {},
     "output_type": "execute_result"
    }
   ],
   "source": [
    "# Lets see the top 5 rows of our extracted dataset.\n",
    "\n",
    "postal_code.head()"
   ]
  },
  {
   "cell_type": "code",
   "execution_count": 33,
   "id": "e0cdcccc-2992-4f0c-b20d-8ab10ec39fae",
   "metadata": {},
   "outputs": [
    {
     "data": {
      "text/plain": [
       "(402, 7)"
      ]
     },
     "execution_count": 33,
     "metadata": {},
     "output_type": "execute_result"
    }
   ],
   "source": [
    "# Shape will show the number of rows and columns in our dataset.\n",
    "\n",
    "postal_code.shape"
   ]
  },
  {
   "cell_type": "markdown",
   "id": "1e8643d7-1760-4670-9e9d-e233da4ba452",
   "metadata": {},
   "source": [
    "# Step 1 - Removing bad data"
   ]
  },
  {
   "cell_type": "markdown",
   "id": "75daa7d9-a639-4856-bf7d-ee43572b5249",
   "metadata": {},
   "source": [
    "As we can see above postal_code dataframe has so many empty rows and also it is showing the laitude and longtitude of that place in dataset that we do not need in our analysis.\n",
    "Lets remove those empty rows and place map map location from dataset."
   ]
  },
  {
   "cell_type": "code",
   "execution_count": 65,
   "id": "d314806f-d2f6-403e-b723-1665fd6d1f82",
   "metadata": {},
   "outputs": [],
   "source": [
    "# dropna function to drop nulls from our dataset.\n",
    "\n",
    "postal_code_df = postal_code.dropna()"
   ]
  },
  {
   "cell_type": "code",
   "execution_count": 66,
   "id": "c772083c-9a13-49b8-bf3d-2808edea863c",
   "metadata": {},
   "outputs": [
    {
     "data": {
      "text/plain": [
       "(200, 7)"
      ]
     },
     "execution_count": 66,
     "metadata": {},
     "output_type": "execute_result"
    }
   ],
   "source": [
    "# Lets check the existing rows and columns of dataset now after dropping null values.\n",
    "\n",
    "postal_code_df.shape"
   ]
  },
  {
   "cell_type": "markdown",
   "id": "01f4fa11-9083-4a6b-81d6-68371efb5027",
   "metadata": {},
   "source": [
    "# Step 2 - Changing the headers to make more sense"
   ]
  },
  {
   "cell_type": "code",
   "execution_count": 67,
   "id": "5ce31f19-289f-4d73-b0c3-65e408abfe91",
   "metadata": {},
   "outputs": [],
   "source": [
    "# Almost every column in this dataset has name which do not give the insight of the data.\n",
    "# Lets rename columns so that it will be easy for us to read the data.\n",
    "\n",
    "postal_code_df.rename(columns = {'':'ID', 'Place':'Place', 'Code':'Code', 'Country':'Country', 'Admin1':'State', 'Admin2':'City'}, inplace = True)"
   ]
  },
  {
   "cell_type": "code",
   "execution_count": 68,
   "id": "ed0185b8-18f5-4b31-9db9-94210162c891",
   "metadata": {},
   "outputs": [
    {
     "data": {
      "text/html": [
       "<div>\n",
       "<style scoped>\n",
       "    .dataframe tbody tr th:only-of-type {\n",
       "        vertical-align: middle;\n",
       "    }\n",
       "\n",
       "    .dataframe tbody tr th {\n",
       "        vertical-align: top;\n",
       "    }\n",
       "\n",
       "    .dataframe thead th {\n",
       "        text-align: right;\n",
       "    }\n",
       "</style>\n",
       "<table border=\"1\" class=\"dataframe\">\n",
       "  <thead>\n",
       "    <tr style=\"text-align: right;\">\n",
       "      <th></th>\n",
       "      <th>ID</th>\n",
       "      <th>Place</th>\n",
       "      <th>Code</th>\n",
       "      <th>Country</th>\n",
       "      <th>State</th>\n",
       "      <th>City</th>\n",
       "      <th>Admin3</th>\n",
       "    </tr>\n",
       "  </thead>\n",
       "  <tbody>\n",
       "    <tr>\n",
       "      <th>1</th>\n",
       "      <td>1</td>\n",
       "      <td>Beverly Hills</td>\n",
       "      <td>90210</td>\n",
       "      <td>United States</td>\n",
       "      <td>California</td>\n",
       "      <td>Los Angeles</td>\n",
       "      <td></td>\n",
       "    </tr>\n",
       "    <tr>\n",
       "      <th>3</th>\n",
       "      <td>2</td>\n",
       "      <td>Los Angeles</td>\n",
       "      <td>90002</td>\n",
       "      <td>United States</td>\n",
       "      <td>California</td>\n",
       "      <td>Los Angeles</td>\n",
       "      <td></td>\n",
       "    </tr>\n",
       "    <tr>\n",
       "      <th>5</th>\n",
       "      <td>3</td>\n",
       "      <td>Los Angeles</td>\n",
       "      <td>90003</td>\n",
       "      <td>United States</td>\n",
       "      <td>California</td>\n",
       "      <td>Los Angeles</td>\n",
       "      <td></td>\n",
       "    </tr>\n",
       "    <tr>\n",
       "      <th>7</th>\n",
       "      <td>4</td>\n",
       "      <td>Los Angeles</td>\n",
       "      <td>90004</td>\n",
       "      <td>United States</td>\n",
       "      <td>California</td>\n",
       "      <td>Los Angeles</td>\n",
       "      <td></td>\n",
       "    </tr>\n",
       "    <tr>\n",
       "      <th>9</th>\n",
       "      <td>5</td>\n",
       "      <td>Los Angeles</td>\n",
       "      <td>90006</td>\n",
       "      <td>United States</td>\n",
       "      <td>California</td>\n",
       "      <td>Los Angeles</td>\n",
       "      <td></td>\n",
       "    </tr>\n",
       "  </tbody>\n",
       "</table>\n",
       "</div>"
      ],
      "text/plain": [
       "  ID          Place   Code        Country       State         City Admin3\n",
       "1  1  Beverly Hills  90210  United States  California  Los Angeles       \n",
       "3  2    Los Angeles  90002  United States  California  Los Angeles       \n",
       "5  3    Los Angeles  90003  United States  California  Los Angeles       \n",
       "7  4    Los Angeles  90004  United States  California  Los Angeles       \n",
       "9  5    Los Angeles  90006  United States  California  Los Angeles       "
      ]
     },
     "execution_count": 68,
     "metadata": {},
     "output_type": "execute_result"
    }
   ],
   "source": [
    "# lets check the data now with new columns.\n",
    "\n",
    "postal_code_df.head()"
   ]
  },
  {
   "cell_type": "markdown",
   "id": "bce22679-72df-4588-bdd4-7cc5055fcde7",
   "metadata": {
    "tags": []
   },
   "source": [
    "# Step 3 - Droping columns"
   ]
  },
  {
   "cell_type": "markdown",
   "id": "0ec16f8c-8423-495d-9d48-7991aa6c1b54",
   "metadata": {},
   "source": [
    "As we can see ID and Admin3 columns do not give any information about the data and we will not be using this column in our analysis. So it will be save to drop this column from our dataset."
   ]
  },
  {
   "cell_type": "code",
   "execution_count": 69,
   "id": "0729c724-2962-481f-b4a8-ec726f852dc3",
   "metadata": {},
   "outputs": [],
   "source": [
    "postal_code_df = postal_code_df.drop(['ID','Admin3'], axis=1)"
   ]
  },
  {
   "cell_type": "code",
   "execution_count": 70,
   "id": "01c9c6dd-ccc6-4e34-8154-dce74e1edd93",
   "metadata": {},
   "outputs": [
    {
     "data": {
      "text/html": [
       "<div>\n",
       "<style scoped>\n",
       "    .dataframe tbody tr th:only-of-type {\n",
       "        vertical-align: middle;\n",
       "    }\n",
       "\n",
       "    .dataframe tbody tr th {\n",
       "        vertical-align: top;\n",
       "    }\n",
       "\n",
       "    .dataframe thead th {\n",
       "        text-align: right;\n",
       "    }\n",
       "</style>\n",
       "<table border=\"1\" class=\"dataframe\">\n",
       "  <thead>\n",
       "    <tr style=\"text-align: right;\">\n",
       "      <th></th>\n",
       "      <th>Place</th>\n",
       "      <th>Code</th>\n",
       "      <th>Country</th>\n",
       "      <th>State</th>\n",
       "      <th>City</th>\n",
       "    </tr>\n",
       "  </thead>\n",
       "  <tbody>\n",
       "    <tr>\n",
       "      <th>1</th>\n",
       "      <td>Beverly Hills</td>\n",
       "      <td>90210</td>\n",
       "      <td>United States</td>\n",
       "      <td>California</td>\n",
       "      <td>Los Angeles</td>\n",
       "    </tr>\n",
       "    <tr>\n",
       "      <th>3</th>\n",
       "      <td>Los Angeles</td>\n",
       "      <td>90002</td>\n",
       "      <td>United States</td>\n",
       "      <td>California</td>\n",
       "      <td>Los Angeles</td>\n",
       "    </tr>\n",
       "    <tr>\n",
       "      <th>5</th>\n",
       "      <td>Los Angeles</td>\n",
       "      <td>90003</td>\n",
       "      <td>United States</td>\n",
       "      <td>California</td>\n",
       "      <td>Los Angeles</td>\n",
       "    </tr>\n",
       "    <tr>\n",
       "      <th>7</th>\n",
       "      <td>Los Angeles</td>\n",
       "      <td>90004</td>\n",
       "      <td>United States</td>\n",
       "      <td>California</td>\n",
       "      <td>Los Angeles</td>\n",
       "    </tr>\n",
       "    <tr>\n",
       "      <th>9</th>\n",
       "      <td>Los Angeles</td>\n",
       "      <td>90006</td>\n",
       "      <td>United States</td>\n",
       "      <td>California</td>\n",
       "      <td>Los Angeles</td>\n",
       "    </tr>\n",
       "  </tbody>\n",
       "</table>\n",
       "</div>"
      ],
      "text/plain": [
       "           Place   Code        Country       State         City\n",
       "1  Beverly Hills  90210  United States  California  Los Angeles\n",
       "3    Los Angeles  90002  United States  California  Los Angeles\n",
       "5    Los Angeles  90003  United States  California  Los Angeles\n",
       "7    Los Angeles  90004  United States  California  Los Angeles\n",
       "9    Los Angeles  90006  United States  California  Los Angeles"
      ]
     },
     "execution_count": 70,
     "metadata": {},
     "output_type": "execute_result"
    }
   ],
   "source": [
    "# lets check the first 5 rows to see how data looks now.\n",
    "\n",
    "postal_code_df.head()"
   ]
  },
  {
   "cell_type": "markdown",
   "id": "39bd2237-4b18-4b31-b4f0-a50788002346",
   "metadata": {},
   "source": [
    "# Step 4 - Looking for NULL values in dataframe"
   ]
  },
  {
   "cell_type": "code",
   "execution_count": 71,
   "id": "ad3968de-7b10-4293-bb52-f41a0c753c9c",
   "metadata": {},
   "outputs": [
    {
     "data": {
      "text/plain": [
       "Place      0\n",
       "Code       0\n",
       "Country    0\n",
       "State      0\n",
       "City       0\n",
       "dtype: int64"
      ]
     },
     "execution_count": 71,
     "metadata": {},
     "output_type": "execute_result"
    }
   ],
   "source": [
    "# checking the dataframe for null values, below function will count the number of NULL values for each column.\n",
    "\n",
    "postal_code_df.isnull().sum()"
   ]
  },
  {
   "cell_type": "markdown",
   "id": "e320e51d-1889-4764-bae3-b813300c3c88",
   "metadata": {},
   "source": [
    "As we can see our dataframe is all clean and do not have any null values. We are good to go."
   ]
  },
  {
   "cell_type": "markdown",
   "id": "bedb39bb-07d8-4e28-98cc-f39470dd000c",
   "metadata": {},
   "source": [
    "# Step 5 - Removing the leading and ending whitespace"
   ]
  },
  {
   "cell_type": "markdown",
   "id": "aff5c30d-a7aa-4877-9318-831d516206a0",
   "metadata": {},
   "source": [
    "It is always good to check and get rid off the leadinf and ending space from values. As this can impact our analysis."
   ]
  },
  {
   "cell_type": "code",
   "execution_count": 72,
   "id": "113c57cd-15f8-4527-a01d-924902444b1d",
   "metadata": {},
   "outputs": [],
   "source": [
    "# using strip fucntion to remove leading and ending whitespace.\n",
    "\n",
    "def strip_whitespace(s):\n",
    "    return s.strip()  # using strip fucntion to remove leading and ending whitespace."
   ]
  },
  {
   "cell_type": "code",
   "execution_count": 74,
   "id": "8b953a53-e564-47a0-a331-39125da9b5c9",
   "metadata": {},
   "outputs": [],
   "source": [
    "# Lets strip the whitespace if any in Place column of the dataset\n",
    "\n",
    "postal_code_df['Place_stripped']=postal_code_df['Place'].apply(strip_whitespace)\n",
    "postal_code_df['Place']=postal_code_df['Place_stripped']\n",
    "postal_code_df.drop(labels=['Place_stripped'],axis=1,inplace=True)"
   ]
  },
  {
   "cell_type": "markdown",
   "id": "1f92e844-186d-4012-a206-a691fe5ce8c2",
   "metadata": {},
   "source": [
    "# Step 6 - Check for duplicates"
   ]
  },
  {
   "cell_type": "code",
   "execution_count": 76,
   "id": "932b75a3-68e2-4db4-86aa-f23a03d17e51",
   "metadata": {},
   "outputs": [
    {
     "name": "stdout",
     "output_type": "stream",
     "text": [
      "Is column Place is duplicated? - True\n",
      "Is column Code is duplicated? - False\n"
     ]
    }
   ],
   "source": [
    "# Lets make sure we do not have any duplicates for columns Place and Code in our dataset\n",
    "\n",
    "print(\"Is column Place is duplicated? - {}\".format(any(postal_code_df.Place.duplicated())))\n",
    "print(\"Is column Code is duplicated? - {}\".format(any(postal_code_df.Code.duplicated())))"
   ]
  },
  {
   "cell_type": "markdown",
   "id": "781872bc-72a4-4936-bd00-65bd71740927",
   "metadata": {},
   "source": [
    "It make sense to have duplicates values for Place as we can have same place name for different postal code.\n",
    "But we do not have same postal code for different place. So it is good to know that we have all unique code in our dataset for California State."
   ]
  },
  {
   "cell_type": "markdown",
   "id": "1f9aa5e9-c55a-4fa6-9985-a044b9f5bf8c",
   "metadata": {},
   "source": [
    "# Step 7 - Check for NaN values"
   ]
  },
  {
   "cell_type": "code",
   "execution_count": 77,
   "id": "7e1e4e15-f074-48c7-a11c-ae9d77b8d13a",
   "metadata": {},
   "outputs": [
    {
     "name": "stdout",
     "output_type": "stream",
     "text": [
      "Is the column Place contains NaN values? - False \n",
      "Is the column Code contains NaN values? - False \n",
      "Is the column City contains NaN values? - False \n"
     ]
    }
   ],
   "source": [
    "# Lets check few columns of the dataset for NaN Values\n",
    "\n",
    "print(\"Is the column Place contains NaN values? - %r \" % postal_code_df.Place.isnull().values.any())\n",
    "print(\"Is the column Code contains NaN values? - %r \" % postal_code_df.Code.isnull().values.any())\n",
    "print(\"Is the column City contains NaN values? - %r \" % postal_code_df.City.isnull().values.any())"
   ]
  },
  {
   "cell_type": "markdown",
   "id": "29d73af4-739d-47f3-8a48-a0aabe8a2a0c",
   "metadata": {},
   "source": [
    "All the above columns showing 'false' for NaN values,so we are good to go and we can move ahead and start working on this dataset now."
   ]
  },
  {
   "cell_type": "code",
   "execution_count": 83,
   "id": "eb437e40-418e-4f19-a805-6f3373879484",
   "metadata": {},
   "outputs": [
    {
     "data": {
      "text/html": [
       "<div>\n",
       "<style scoped>\n",
       "    .dataframe tbody tr th:only-of-type {\n",
       "        vertical-align: middle;\n",
       "    }\n",
       "\n",
       "    .dataframe tbody tr th {\n",
       "        vertical-align: top;\n",
       "    }\n",
       "\n",
       "    .dataframe thead th {\n",
       "        text-align: right;\n",
       "    }\n",
       "</style>\n",
       "<table border=\"1\" class=\"dataframe\">\n",
       "  <thead>\n",
       "    <tr style=\"text-align: right;\">\n",
       "      <th></th>\n",
       "      <th>Place</th>\n",
       "      <th>Code</th>\n",
       "      <th>Country</th>\n",
       "      <th>State</th>\n",
       "      <th>City</th>\n",
       "    </tr>\n",
       "  </thead>\n",
       "  <tbody>\n",
       "    <tr>\n",
       "      <th>1</th>\n",
       "      <td>Beverly Hills</td>\n",
       "      <td>90210</td>\n",
       "      <td>United States</td>\n",
       "      <td>California</td>\n",
       "      <td>Los Angeles</td>\n",
       "    </tr>\n",
       "    <tr>\n",
       "      <th>3</th>\n",
       "      <td>Los Angeles</td>\n",
       "      <td>90002</td>\n",
       "      <td>United States</td>\n",
       "      <td>California</td>\n",
       "      <td>Los Angeles</td>\n",
       "    </tr>\n",
       "    <tr>\n",
       "      <th>5</th>\n",
       "      <td>Los Angeles</td>\n",
       "      <td>90003</td>\n",
       "      <td>United States</td>\n",
       "      <td>California</td>\n",
       "      <td>Los Angeles</td>\n",
       "    </tr>\n",
       "    <tr>\n",
       "      <th>7</th>\n",
       "      <td>Los Angeles</td>\n",
       "      <td>90004</td>\n",
       "      <td>United States</td>\n",
       "      <td>California</td>\n",
       "      <td>Los Angeles</td>\n",
       "    </tr>\n",
       "    <tr>\n",
       "      <th>9</th>\n",
       "      <td>Los Angeles</td>\n",
       "      <td>90006</td>\n",
       "      <td>United States</td>\n",
       "      <td>California</td>\n",
       "      <td>Los Angeles</td>\n",
       "    </tr>\n",
       "    <tr>\n",
       "      <th>...</th>\n",
       "      <td>...</td>\n",
       "      <td>...</td>\n",
       "      <td>...</td>\n",
       "      <td>...</td>\n",
       "      <td>...</td>\n",
       "    </tr>\n",
       "    <tr>\n",
       "      <th>391</th>\n",
       "      <td>Inglewood</td>\n",
       "      <td>90310</td>\n",
       "      <td>United States</td>\n",
       "      <td>California</td>\n",
       "      <td>Los Angeles</td>\n",
       "    </tr>\n",
       "    <tr>\n",
       "      <th>393</th>\n",
       "      <td>Inglewood</td>\n",
       "      <td>90311</td>\n",
       "      <td>United States</td>\n",
       "      <td>California</td>\n",
       "      <td>Los Angeles</td>\n",
       "    </tr>\n",
       "    <tr>\n",
       "      <th>395</th>\n",
       "      <td>Inglewood</td>\n",
       "      <td>90312</td>\n",
       "      <td>United States</td>\n",
       "      <td>California</td>\n",
       "      <td>Los Angeles</td>\n",
       "    </tr>\n",
       "    <tr>\n",
       "      <th>397</th>\n",
       "      <td>Santa Monica</td>\n",
       "      <td>90402</td>\n",
       "      <td>United States</td>\n",
       "      <td>California</td>\n",
       "      <td>Los Angeles</td>\n",
       "    </tr>\n",
       "    <tr>\n",
       "      <th>399</th>\n",
       "      <td>Santa Monica</td>\n",
       "      <td>90406</td>\n",
       "      <td>United States</td>\n",
       "      <td>California</td>\n",
       "      <td>Los Angeles</td>\n",
       "    </tr>\n",
       "  </tbody>\n",
       "</table>\n",
       "<p>200 rows × 5 columns</p>\n",
       "</div>"
      ],
      "text/plain": [
       "             Place   Code        Country       State         City\n",
       "1    Beverly Hills  90210  United States  California  Los Angeles\n",
       "3      Los Angeles  90002  United States  California  Los Angeles\n",
       "5      Los Angeles  90003  United States  California  Los Angeles\n",
       "7      Los Angeles  90004  United States  California  Los Angeles\n",
       "9      Los Angeles  90006  United States  California  Los Angeles\n",
       "..             ...    ...            ...         ...          ...\n",
       "391      Inglewood  90310  United States  California  Los Angeles\n",
       "393      Inglewood  90311  United States  California  Los Angeles\n",
       "395      Inglewood  90312  United States  California  Los Angeles\n",
       "397   Santa Monica  90402  United States  California  Los Angeles\n",
       "399   Santa Monica  90406  United States  California  Los Angeles\n",
       "\n",
       "[200 rows x 5 columns]"
      ]
     },
     "execution_count": 83,
     "metadata": {},
     "output_type": "execute_result"
    }
   ],
   "source": [
    "postal_code_df"
   ]
  },
  {
   "cell_type": "markdown",
   "id": "6db332a9-828f-41e1-97ce-8cf3f0c7dd34",
   "metadata": {},
   "source": [
    "This dataset is simple and goal of using this dataset is to get all the postal codes of California states for my project work in which I will analysis the covid and vaccination data for California states."
   ]
  },
  {
   "cell_type": "code",
   "execution_count": null,
   "id": "f6922996-138e-4a68-b8fa-a2675e870d87",
   "metadata": {},
   "outputs": [],
   "source": []
  }
 ],
 "metadata": {
  "kernelspec": {
   "display_name": "Python 3 (ipykernel)",
   "language": "python",
   "name": "python3"
  },
  "language_info": {
   "codemirror_mode": {
    "name": "ipython",
    "version": 3
   },
   "file_extension": ".py",
   "mimetype": "text/x-python",
   "name": "python",
   "nbconvert_exporter": "python",
   "pygments_lexer": "ipython3",
   "version": "3.9.7"
  }
 },
 "nbformat": 4,
 "nbformat_minor": 5
}
